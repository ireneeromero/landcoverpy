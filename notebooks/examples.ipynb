{
 "cells": [
  {
   "cell_type": "markdown",
   "metadata": {},
   "source": [
    "# Land cover of Spain example (local mode)\n",
    "\n",
    "### Generate training dataset using validated data located at `DB_DIR` environment variable"
   ]
  },
  {
   "cell_type": "code",
   "execution_count": null,
   "metadata": {},
   "outputs": [],
   "source": [
    "from landcoverpy.execution_mode import ExecutionMode\n",
    "from landcoverpy.workflow import workflow\n",
    "workflow(execution_mode=ExecutionMode.TRAINING)"
   ]
  },
  {
   "cell_type": "markdown",
   "metadata": {},
   "source": [
    "### Postprocess generated dataset, called `dataset.csv` (which has been generated in MinIO)"
   ]
  },
  {
   "cell_type": "code",
   "execution_count": null,
   "metadata": {},
   "outputs": [],
   "source": [
    "from landcoverpy.data_postprocessing import postprocess_dataset\n",
    "\n",
    "input_dataset = \"dataset.csv\"\n",
    "land_cover_dataset = \"dataset_postprocessed.csv\"\n",
    "\n",
    "postprocess_dataset(input_dataset, land_cover_dataset)"
   ]
  },
  {
   "cell_type": "markdown",
   "metadata": {},
   "source": [
    "### Train model using postprocessed dataset"
   ]
  },
  {
   "cell_type": "code",
   "execution_count": null,
   "metadata": {},
   "outputs": [],
   "source": [
    "from landcoverpy.model_training import train_model_land_cover\n",
    "\n",
    "train_model_land_cover(land_cover_dataset, n_jobs = 1)"
   ]
  },
  {
   "cell_type": "markdown",
   "metadata": {},
   "source": [
    "### Get the tiles in Spain and classify them using the trained model"
   ]
  },
  {
   "cell_type": "code",
   "execution_count": 5,
   "metadata": {},
   "outputs": [],
   "source": [
    "from landcoverpy.utilities.aoi_tiles import get_list_of_tiles_in_iberian_peninsula\n",
    "\n",
    "workflow(execution_mode=ExecutionMode.LAND_COVER_PREDICTION, tiles_to_predict=get_list_of_tiles_in_iberian_peninsula())"
   ]
  }
 ],
 "metadata": {
  "kernelspec": {
   "display_name": "Python 3.10.6 ('etc-venv': venv)",
   "language": "python",
   "name": "python3"
  },
  "language_info": {
   "codemirror_mode": {
    "name": "ipython",
    "version": 3
   },
   "file_extension": ".py",
   "mimetype": "text/x-python",
   "name": "python",
   "nbconvert_exporter": "python",
   "pygments_lexer": "ipython3",
   "version": "3.8.9"
  },
  "orig_nbformat": 4,
  "vscode": {
   "interpreter": {
    "hash": "c5b609623bc6dcaf630ee003647188ef73b4744b973961272396928b24c3e5b0"
   }
  }
 },
 "nbformat": 4,
 "nbformat_minor": 2
}
